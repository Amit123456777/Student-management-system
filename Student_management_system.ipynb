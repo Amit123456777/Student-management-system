{
  "nbformat": 4,
  "nbformat_minor": 0,
  "metadata": {
    "colab": {
      "provenance": [],
      "include_colab_link": true
    },
    "kernelspec": {
      "name": "python3",
      "display_name": "Python 3"
    },
    "language_info": {
      "name": "python"
    }
  },
  "cells": [
    {
      "cell_type": "markdown",
      "metadata": {
        "id": "view-in-github",
        "colab_type": "text"
      },
      "source": [
        "<a href=\"https://colab.research.google.com/github/Amit123456777/Student-management-system/blob/main/Student_management_system.ipynb\" target=\"_parent\"><img src=\"https://colab.research.google.com/assets/colab-badge.svg\" alt=\"Open In Colab\"/></a>"
      ]
    },
    {
      "cell_type": "code",
      "execution_count": null,
      "metadata": {
        "colab": {
          "base_uri": "https://localhost:8080/"
        },
        "id": "TuAUiU-7S6Dv",
        "outputId": "c84e0de3-3278-4a6f-9c42-1640293dba23"
      },
      "outputs": [
        {
          "output_type": "stream",
          "name": "stdout",
          "text": [
            "\n",
            "Student Management System\n",
            "1. Add Student\n",
            "2. Display Students\n",
            "3. Display Courses\n",
            "4. Add Grades\n",
            "5. Display Grades\n",
            "6. Exit\n",
            "Enter your choice (1-6): 6\n",
            "Exiting the program. Goodbye!\n"
          ]
        }
      ],
      "source": [
        "# Student Management System\n",
        "\n",
        "# Data Structures\n",
        "students_list = []\n",
        "student_tuple = ()\n",
        "courses_set = set()\n",
        "grades_dict = {}\n",
        "\n",
        "# Functions\n",
        "def add_student():\n",
        "    name = input(\"Enter student name: \")\n",
        "    age = int(input(\"Enter student age: \"))\n",
        "    courses = input(\"Enter student courses (comma-separated): \").split(',')\n",
        "\n",
        "    student = {'name': name, 'age': age, 'courses': courses}\n",
        "    students_list.append(student)\n",
        "\n",
        "    for course in courses:\n",
        "        courses_set.add(course)\n",
        "\n",
        "    print(\"Student added successfully.\")\n",
        "\n",
        "def display_students():\n",
        "    if not students_list:\n",
        "        print(\"No students in the system.\")\n",
        "    else:\n",
        "        print(\"\\nStudents in the system:\")\n",
        "        for student in students_list:\n",
        "            print(f\"Name: {student['name']}, Age: {student['age']}, Courses: {', '.join(student['courses'])}\")\n",
        "\n",
        "def display_courses():\n",
        "    if not courses_set:\n",
        "        print(\"No courses in the system.\")\n",
        "    else:\n",
        "        print(\"\\nCourses in the system:\")\n",
        "        for course in courses_set:\n",
        "            print(course)\n",
        "\n",
        "def add_grades():\n",
        "    if not students_list or not courses_set:\n",
        "        print(\"Cannot add grades. Students or courses not available.\")\n",
        "        return\n",
        "\n",
        "    student_name = input(\"Enter student name to add grades: \")\n",
        "    course = input(\"Enter course for which you want to add grades: \")\n",
        "    grade = float(input(\"Enter the grade for the course: \"))\n",
        "\n",
        "    for student in students_list:\n",
        "        if student['name'] == student_name:\n",
        "            grades_dict[(student_name, course)] = grade\n",
        "            print(\"Grades added successfully.\")\n",
        "            return\n",
        "\n",
        "    print(\"Student not found.\")\n",
        "\n",
        "def display_grades():\n",
        "    if not grades_dict:\n",
        "        print(\"No grades in the system.\")\n",
        "    else:\n",
        "        print(\"\\nGrades in the system:\")\n",
        "        for (student_name, course), grade in grades_dict.items():\n",
        "            print(f\"Student: {student_name}, Course: {course}, Grade: {grade}\")\n",
        "\n",
        "# Main Program\n",
        "while True:\n",
        "    print(\"\\nStudent Management System\")\n",
        "    print(\"1. Add Student\")\n",
        "    print(\"2. Display Students\")\n",
        "    print(\"3. Display Courses\")\n",
        "    print(\"4. Add Grades\")\n",
        "    print(\"5. Display Grades\")\n",
        "    print(\"6. Exit\")\n",
        "\n",
        "    choice = input(\"Enter your choice (1-6): \")\n",
        "\n",
        "    if choice == '1':\n",
        "        add_student()\n",
        "    elif choice == '2':\n",
        "        display_students()\n",
        "    elif choice == '3':\n",
        "        display_courses()\n",
        "    elif choice == '4':\n",
        "        add_grades()\n",
        "    elif choice == '5':\n",
        "        display_grades()\n",
        "    elif choice == '6':\n",
        "        print(\"Exiting the program. Goodbye!\")\n",
        "        break\n",
        "    else:\n",
        "        print(\"Invalid choice. Please enter a number between 1 and 6.\")\n"
      ]
    },
    {
      "cell_type": "code",
      "source": [],
      "metadata": {
        "id": "DRi3uzc4S7K4"
      },
      "execution_count": null,
      "outputs": []
    }
  ]
}